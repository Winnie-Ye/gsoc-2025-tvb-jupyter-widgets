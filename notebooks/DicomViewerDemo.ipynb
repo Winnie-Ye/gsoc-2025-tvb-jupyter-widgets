{
 "cells": [
  {
   "cell_type": "code",
   "id": "cc4ea95c4577a580",
   "metadata": {
    "ExecuteTime": {
     "end_time": "2025-04-08T12:21:54.550055Z",
     "start_time": "2025-04-08T12:21:53.765445Z"
    }
   },
   "source": [
    "from tvbwidgets.ui.plotly_backend.dicom_viewer import DicomViewer\n",
    "import numpy as np\n",
    "import ipywidgets as widgets\n",
    "from IPython.display import display\n",
    "\n",
    "volume = np.random.randint(0, 256, (60, 256, 256), dtype=np.uint8)\n",
    "\n",
    "viewer = DicomViewer()\n",
    "viewer.set_volume(volume)\n",
    "\n",
    "controls = widgets.VBox()\n",
    "viewer.add_slice_slider(controls)\n",
    "viewer.add_window_level_controls(controls)\n",
    "\n",
    "display(controls)\n",
    "fig = viewer.show()\n",
    "display(fig)"
   ],
   "outputs": [
    {
     "ename": "ValueError",
     "evalue": "\n    Invalid value of type 'builtins.str' received for the 'colormodel' property of image\n        Received value: 'gray'\n\n    The 'colormodel' property is an enumeration that may be specified as:\n      - One of the following enumeration values:\n            ['rgb', 'rgba', 'rgba256', 'hsl', 'hsla']",
     "output_type": "error",
     "traceback": [
      "\u001B[0;31m---------------------------------------------------------------------------\u001B[0m",
      "\u001B[0;31mValueError\u001B[0m                                Traceback (most recent call last)",
      "Cell \u001B[0;32mIn[11], line 9\u001B[0m\n\u001B[1;32m      6\u001B[0m volume \u001B[38;5;241m=\u001B[39m np\u001B[38;5;241m.\u001B[39mrandom\u001B[38;5;241m.\u001B[39mrandint(\u001B[38;5;241m0\u001B[39m, \u001B[38;5;241m256\u001B[39m, (\u001B[38;5;241m60\u001B[39m, \u001B[38;5;241m256\u001B[39m, \u001B[38;5;241m256\u001B[39m), dtype\u001B[38;5;241m=\u001B[39mnp\u001B[38;5;241m.\u001B[39muint8)\n\u001B[1;32m      8\u001B[0m viewer \u001B[38;5;241m=\u001B[39m DicomViewer()\n\u001B[0;32m----> 9\u001B[0m viewer\u001B[38;5;241m.\u001B[39mset_volume(volume)\n\u001B[1;32m     11\u001B[0m controls \u001B[38;5;241m=\u001B[39m widgets\u001B[38;5;241m.\u001B[39mVBox()\n\u001B[1;32m     12\u001B[0m viewer\u001B[38;5;241m.\u001B[39madd_slice_slider(controls)\n",
      "File \u001B[0;32m~/Desktop/tvb-widgets-before/tvbwidgets/ui/plotly_backend/dicom_viewer.py:58\u001B[0m, in \u001B[0;36mDicomViewer.set_volume\u001B[0;34m(self, volume)\u001B[0m\n\u001B[1;32m     55\u001B[0m \u001B[38;5;28mself\u001B[39m\u001B[38;5;241m.\u001B[39mcurrent_slice \u001B[38;5;241m=\u001B[39m \u001B[38;5;28mself\u001B[39m\u001B[38;5;241m.\u001B[39mnum_slices \u001B[38;5;241m/\u001B[39m\u001B[38;5;241m/\u001B[39m \u001B[38;5;241m2\u001B[39m  \u001B[38;5;66;03m# Start at middle slice\u001B[39;00m\n\u001B[1;32m     57\u001B[0m \u001B[38;5;66;03m# Update the display\u001B[39;00m\n\u001B[0;32m---> 58\u001B[0m \u001B[38;5;28mself\u001B[39m\u001B[38;5;241m.\u001B[39m_update_slice()\n",
      "File \u001B[0;32m~/Desktop/tvb-widgets-before/tvbwidgets/ui/plotly_backend/dicom_viewer.py:97\u001B[0m, in \u001B[0;36mDicomViewer._update_slice\u001B[0;34m(self)\u001B[0m\n\u001B[1;32m     94\u001B[0m \u001B[38;5;66;03m# Update or create the image trace\u001B[39;00m\n\u001B[1;32m     95\u001B[0m \u001B[38;5;28;01mif\u001B[39;00m \u001B[38;5;28mlen\u001B[39m(\u001B[38;5;28mself\u001B[39m\u001B[38;5;241m.\u001B[39mfig\u001B[38;5;241m.\u001B[39mdata) \u001B[38;5;241m==\u001B[39m \u001B[38;5;241m0\u001B[39m:\n\u001B[1;32m     96\u001B[0m     \u001B[38;5;28mself\u001B[39m\u001B[38;5;241m.\u001B[39mfig\u001B[38;5;241m.\u001B[39madd_trace(\n\u001B[0;32m---> 97\u001B[0m         go\u001B[38;5;241m.\u001B[39mImage(\n\u001B[1;32m     98\u001B[0m             z\u001B[38;5;241m=\u001B[39mnormalized_slice,\n\u001B[1;32m     99\u001B[0m             colormodel\u001B[38;5;241m=\u001B[39m\u001B[38;5;124m'\u001B[39m\u001B[38;5;124mgray\u001B[39m\u001B[38;5;124m'\u001B[39m\n\u001B[1;32m    100\u001B[0m         )\n\u001B[1;32m    101\u001B[0m     )\n\u001B[1;32m    102\u001B[0m \u001B[38;5;28;01melse\u001B[39;00m:\n\u001B[1;32m    103\u001B[0m     \u001B[38;5;28mself\u001B[39m\u001B[38;5;241m.\u001B[39mfig\u001B[38;5;241m.\u001B[39mdata[\u001B[38;5;241m0\u001B[39m]\u001B[38;5;241m.\u001B[39mz \u001B[38;5;241m=\u001B[39m normalized_slice\n",
      "File \u001B[0;32m/opt/miniconda3/lib/python3.12/site-packages/plotly/graph_objs/_image.py:1453\u001B[0m, in \u001B[0;36mImage.__init__\u001B[0;34m(self, arg, colormodel, customdata, customdatasrc, dx, dy, hoverinfo, hoverinfosrc, hoverlabel, hovertemplate, hovertemplatesrc, hovertext, hovertextsrc, ids, idssrc, legendgrouptitle, legendrank, legendwidth, meta, metasrc, name, opacity, source, stream, text, textsrc, uid, uirevision, visible, x0, xaxis, y0, yaxis, z, zmax, zmin, zsmooth, zsrc, **kwargs)\u001B[0m\n\u001B[1;32m   1451\u001B[0m _v \u001B[38;5;241m=\u001B[39m colormodel \u001B[38;5;28;01mif\u001B[39;00m colormodel \u001B[38;5;129;01mis\u001B[39;00m \u001B[38;5;129;01mnot\u001B[39;00m \u001B[38;5;28;01mNone\u001B[39;00m \u001B[38;5;28;01melse\u001B[39;00m _v\n\u001B[1;32m   1452\u001B[0m \u001B[38;5;28;01mif\u001B[39;00m _v \u001B[38;5;129;01mis\u001B[39;00m \u001B[38;5;129;01mnot\u001B[39;00m \u001B[38;5;28;01mNone\u001B[39;00m:\n\u001B[0;32m-> 1453\u001B[0m     \u001B[38;5;28mself\u001B[39m[\u001B[38;5;124m\"\u001B[39m\u001B[38;5;124mcolormodel\u001B[39m\u001B[38;5;124m\"\u001B[39m] \u001B[38;5;241m=\u001B[39m _v\n\u001B[1;32m   1454\u001B[0m _v \u001B[38;5;241m=\u001B[39m arg\u001B[38;5;241m.\u001B[39mpop(\u001B[38;5;124m\"\u001B[39m\u001B[38;5;124mcustomdata\u001B[39m\u001B[38;5;124m\"\u001B[39m, \u001B[38;5;28;01mNone\u001B[39;00m)\n\u001B[1;32m   1455\u001B[0m _v \u001B[38;5;241m=\u001B[39m customdata \u001B[38;5;28;01mif\u001B[39;00m customdata \u001B[38;5;129;01mis\u001B[39;00m \u001B[38;5;129;01mnot\u001B[39;00m \u001B[38;5;28;01mNone\u001B[39;00m \u001B[38;5;28;01melse\u001B[39;00m _v\n",
      "File \u001B[0;32m/opt/miniconda3/lib/python3.12/site-packages/plotly/basedatatypes.py:4850\u001B[0m, in \u001B[0;36mBasePlotlyType.__setitem__\u001B[0;34m(self, prop, value)\u001B[0m\n\u001B[1;32m   4846\u001B[0m         \u001B[38;5;28mself\u001B[39m\u001B[38;5;241m.\u001B[39m_set_array_prop(prop, value)\n\u001B[1;32m   4848\u001B[0m     \u001B[38;5;66;03m# ### Handle simple property ###\u001B[39;00m\n\u001B[1;32m   4849\u001B[0m     \u001B[38;5;28;01melse\u001B[39;00m:\n\u001B[0;32m-> 4850\u001B[0m         \u001B[38;5;28mself\u001B[39m\u001B[38;5;241m.\u001B[39m_set_prop(prop, value)\n\u001B[1;32m   4851\u001B[0m \u001B[38;5;28;01melse\u001B[39;00m:\n\u001B[1;32m   4852\u001B[0m     \u001B[38;5;66;03m# Make sure properties dict is initialized\u001B[39;00m\n\u001B[1;32m   4853\u001B[0m     \u001B[38;5;28mself\u001B[39m\u001B[38;5;241m.\u001B[39m_init_props()\n",
      "File \u001B[0;32m/opt/miniconda3/lib/python3.12/site-packages/plotly/basedatatypes.py:5194\u001B[0m, in \u001B[0;36mBasePlotlyType._set_prop\u001B[0;34m(self, prop, val)\u001B[0m\n\u001B[1;32m   5192\u001B[0m         \u001B[38;5;28;01mreturn\u001B[39;00m\n\u001B[1;32m   5193\u001B[0m     \u001B[38;5;28;01melse\u001B[39;00m:\n\u001B[0;32m-> 5194\u001B[0m         \u001B[38;5;28;01mraise\u001B[39;00m err\n\u001B[1;32m   5196\u001B[0m \u001B[38;5;66;03m# val is None\u001B[39;00m\n\u001B[1;32m   5197\u001B[0m \u001B[38;5;66;03m# -----------\u001B[39;00m\n\u001B[1;32m   5198\u001B[0m \u001B[38;5;28;01mif\u001B[39;00m val \u001B[38;5;129;01mis\u001B[39;00m \u001B[38;5;28;01mNone\u001B[39;00m:\n\u001B[1;32m   5199\u001B[0m     \u001B[38;5;66;03m# Check if we should send null update\u001B[39;00m\n",
      "File \u001B[0;32m/opt/miniconda3/lib/python3.12/site-packages/plotly/basedatatypes.py:5189\u001B[0m, in \u001B[0;36mBasePlotlyType._set_prop\u001B[0;34m(self, prop, val)\u001B[0m\n\u001B[1;32m   5186\u001B[0m validator \u001B[38;5;241m=\u001B[39m \u001B[38;5;28mself\u001B[39m\u001B[38;5;241m.\u001B[39m_get_validator(prop)\n\u001B[1;32m   5188\u001B[0m \u001B[38;5;28;01mtry\u001B[39;00m:\n\u001B[0;32m-> 5189\u001B[0m     val \u001B[38;5;241m=\u001B[39m validator\u001B[38;5;241m.\u001B[39mvalidate_coerce(val)\n\u001B[1;32m   5190\u001B[0m \u001B[38;5;28;01mexcept\u001B[39;00m \u001B[38;5;167;01mValueError\u001B[39;00m \u001B[38;5;28;01mas\u001B[39;00m err:\n\u001B[1;32m   5191\u001B[0m     \u001B[38;5;28;01mif\u001B[39;00m \u001B[38;5;28mself\u001B[39m\u001B[38;5;241m.\u001B[39m_skip_invalid:\n",
      "File \u001B[0;32m/opt/miniconda3/lib/python3.12/site-packages/_plotly_utils/basevalidators.py:611\u001B[0m, in \u001B[0;36mEnumeratedValidator.validate_coerce\u001B[0;34m(self, v)\u001B[0m\n\u001B[1;32m    609\u001B[0m     v \u001B[38;5;241m=\u001B[39m \u001B[38;5;28mself\u001B[39m\u001B[38;5;241m.\u001B[39mperform_replacemenet(v)\n\u001B[1;32m    610\u001B[0m     \u001B[38;5;28;01mif\u001B[39;00m \u001B[38;5;129;01mnot\u001B[39;00m \u001B[38;5;28mself\u001B[39m\u001B[38;5;241m.\u001B[39min_values(v):\n\u001B[0;32m--> 611\u001B[0m         \u001B[38;5;28mself\u001B[39m\u001B[38;5;241m.\u001B[39mraise_invalid_val(v)\n\u001B[1;32m    612\u001B[0m \u001B[38;5;28;01mreturn\u001B[39;00m v\n",
      "File \u001B[0;32m/opt/miniconda3/lib/python3.12/site-packages/_plotly_utils/basevalidators.py:288\u001B[0m, in \u001B[0;36mBaseValidator.raise_invalid_val\u001B[0;34m(self, v, inds)\u001B[0m\n\u001B[1;32m    285\u001B[0m             \u001B[38;5;28;01mfor\u001B[39;00m i \u001B[38;5;129;01min\u001B[39;00m inds:\n\u001B[1;32m    286\u001B[0m                 name \u001B[38;5;241m+\u001B[39m\u001B[38;5;241m=\u001B[39m \u001B[38;5;124m\"\u001B[39m\u001B[38;5;124m[\u001B[39m\u001B[38;5;124m\"\u001B[39m \u001B[38;5;241m+\u001B[39m \u001B[38;5;28mstr\u001B[39m(i) \u001B[38;5;241m+\u001B[39m \u001B[38;5;124m\"\u001B[39m\u001B[38;5;124m]\u001B[39m\u001B[38;5;124m\"\u001B[39m\n\u001B[0;32m--> 288\u001B[0m         \u001B[38;5;28;01mraise\u001B[39;00m \u001B[38;5;167;01mValueError\u001B[39;00m(\n\u001B[1;32m    289\u001B[0m \u001B[38;5;250m            \u001B[39m\u001B[38;5;124;03m\"\"\"\u001B[39;00m\n\u001B[1;32m    290\u001B[0m \u001B[38;5;124;03m    Invalid value of type {typ} received for the '{name}' property of {pname}\u001B[39;00m\n\u001B[1;32m    291\u001B[0m \u001B[38;5;124;03m        Received value: {v}\u001B[39;00m\n\u001B[1;32m    292\u001B[0m \n\u001B[1;32m    293\u001B[0m \u001B[38;5;124;03m{valid_clr_desc}\"\"\"\u001B[39;00m\u001B[38;5;241m.\u001B[39mformat(\n\u001B[1;32m    294\u001B[0m                 name\u001B[38;5;241m=\u001B[39mname,\n\u001B[1;32m    295\u001B[0m                 pname\u001B[38;5;241m=\u001B[39m\u001B[38;5;28mself\u001B[39m\u001B[38;5;241m.\u001B[39mparent_name,\n\u001B[1;32m    296\u001B[0m                 typ\u001B[38;5;241m=\u001B[39mtype_str(v),\n\u001B[1;32m    297\u001B[0m                 v\u001B[38;5;241m=\u001B[39m\u001B[38;5;28mrepr\u001B[39m(v),\n\u001B[1;32m    298\u001B[0m                 valid_clr_desc\u001B[38;5;241m=\u001B[39m\u001B[38;5;28mself\u001B[39m\u001B[38;5;241m.\u001B[39mdescription(),\n\u001B[1;32m    299\u001B[0m             )\n\u001B[1;32m    300\u001B[0m         )\n",
      "\u001B[0;31mValueError\u001B[0m: \n    Invalid value of type 'builtins.str' received for the 'colormodel' property of image\n        Received value: 'gray'\n\n    The 'colormodel' property is an enumeration that may be specified as:\n      - One of the following enumeration values:\n            ['rgb', 'rgba', 'rgba256', 'hsl', 'hsla']"
     ]
    }
   ],
   "execution_count": 11
  }
 ],
 "metadata": {
  "kernelspec": {
   "display_name": "Python 3 (ipykernel)",
   "language": "python",
   "name": "python3"
  },
  "language_info": {
   "codemirror_mode": {
    "name": "ipython",
    "version": 3
   },
   "file_extension": ".py",
   "mimetype": "text/x-python",
   "name": "python",
   "nbconvert_exporter": "python",
   "pygments_lexer": "ipython3",
   "version": "3.12.2"
  }
 },
 "nbformat": 4,
 "nbformat_minor": 5
}
