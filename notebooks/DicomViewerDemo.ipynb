{
 "cells": [
  {
   "cell_type": "code",
   "execution_count": 1,
   "id": "cc4ea95c4577a580",
   "metadata": {
    "ExecuteTime": {
     "end_time": "2025-04-08T12:21:54.550055Z",
     "start_time": "2025-04-08T12:21:53.765445Z"
    },
    "tags": []
   },
   "outputs": [
    {
     "name": "stdout",
     "output_type": "stream",
     "text": [
      "08-04-2025 11:19:31 - INFO - tvbwidgets - Version: 2.2.2\n",
      "Slice shape: (256, 256)\n",
      "Slice dtype: float64\n",
      "Window min: 0.0 max: 1.0\n",
      "Normalized min: 0.0 max: 0.9999900000999989\n"
     ]
    },
    {
     "data": {
      "application/vnd.jupyter.widget-view+json": {
       "model_id": "2be5adeebfce452d90038ba7832dbbf6",
       "version_major": 2,
       "version_minor": 0
      },
      "text/plain": [
       "VBox(children=(IntSlider(value=30, description='Slice:', max=59), FloatRangeSlider(value=(0.0, 1.0), continuou…"
      ]
     },
     "metadata": {},
     "output_type": "display_data"
    },
    {
     "data": {
      "application/vnd.jupyter.widget-view+json": {
       "model_id": "01d5e2af4f824a1b81581e2be2b76508",
       "version_major": 2,
       "version_minor": 0
      },
      "text/plain": [
       "FigureWidget({\n",
       "    'data': [{'colorscale': [[0.0, 'rgb(0, 0, 0)'], [0.09090909090909091, 'rgb(16,\n",
       "                             16, 16)'], [0.18181818181818182, 'rgb(38, 38, 38)'],\n",
       "                             [0.2727272727272727, 'rgb(59, 59, 59)'],\n",
       "                             [0.36363636363636365, 'rgb(81, 80, 80)'],\n",
       "                             [0.45454545454545453, 'rgb(102, 101, 101)'],\n",
       "                             [0.5454545454545454, 'rgb(124, 123, 122)'],\n",
       "                             [0.6363636363636364, 'rgb(146, 146, 145)'],\n",
       "                             [0.7272727272727273, 'rgb(171, 171, 170)'],\n",
       "                             [0.8181818181818182, 'rgb(197, 197, 195)'],\n",
       "                             [0.9090909090909091, 'rgb(224, 224, 223)'], [1.0,\n",
       "                             'rgb(254, 254, 253)']],\n",
       "              'showscale': False,\n",
       "              'type': 'heatmap',\n",
       "              'uid': '47c2fb72-f11e-406c-8126-2c2c9fa4695d',\n",
       "              'z': array([[0.99999, 0.99999, 0.99999, ..., 0.99999, 0.99999, 0.99999],\n",
       "                          [0.99999, 0.99999, 0.99999, ..., 0.99999, 0.99999, 0.99999],\n",
       "                          [0.99999, 0.99999, 0.99999, ..., 0.99999, 0.99999, 0.99999],\n",
       "                          ...,\n",
       "                          [0.99999, 0.99999, 0.99999, ..., 0.99999, 0.99999, 0.99999],\n",
       "                          [0.99999, 0.99999, 0.99999, ..., 0.99999, 0.99999, 0.99999],\n",
       "                          [0.99999, 0.99999, 0.99999, ..., 0.99999, 0.99999, 0.99999]])}],\n",
       "    'layout': {'height': 600,\n",
       "               'margin': {'b': 40, 'l': 40, 'r': 40, 't': 40},\n",
       "               'template': '...',\n",
       "               'title': {'text': 'DICOM Viewer - Slice 31/60'},\n",
       "               'width': 600,\n",
       "               'xaxis': {'scaleanchor': 'y',\n",
       "                         'scaleratio': 1,\n",
       "                         'showgrid': False,\n",
       "                         'showticklabels': False,\n",
       "                         'zeroline': False},\n",
       "               'yaxis': {'showgrid': False, 'showticklabels': False, 'zeroline': False}}\n",
       "})"
      ]
     },
     "metadata": {},
     "output_type": "display_data"
    }
   ],
   "source": [
    "from tvbwidgets.ui.plotly_backend.dicom_viewer import DicomViewer\n",
    "import numpy as np\n",
    "import ipywidgets as widgets\n",
    "from IPython.display import display\n",
    "\n",
    "volume = np.random.randint(0, 256, (60, 256, 256), dtype=np.uint8)\n",
    "\n",
    "viewer = DicomViewer()\n",
    "viewer.set_volume(volume)\n",
    "\n",
    "controls = widgets.VBox()\n",
    "viewer.add_slice_slider(controls)\n",
    "viewer.add_window_level_controls(controls)\n",
    "\n",
    "display(controls)\n",
    "fig = viewer.show()\n",
    "display(fig)"
   ]
  }
 ],
 "metadata": {
  "kernelspec": {
   "display_name": "Python 3 (ipykernel)",
   "language": "python",
   "name": "python3"
  },
  "language_info": {
   "codemirror_mode": {
    "name": "ipython",
    "version": 3
   },
   "file_extension": ".py",
   "mimetype": "text/x-python",
   "name": "python",
   "nbconvert_exporter": "python",
   "pygments_lexer": "ipython3",
   "version": "3.12.2"
  }
 },
 "nbformat": 4,
 "nbformat_minor": 5
}
