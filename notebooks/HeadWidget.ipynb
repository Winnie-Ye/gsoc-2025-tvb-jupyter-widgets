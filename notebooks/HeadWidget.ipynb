{
 "cells": [
  {
   "cell_type": "markdown",
   "id": "20fa012f-9125-453e-825a-a115d158ad69",
   "metadata": {},
   "source": [
    "## Demonstrate Head Widget "
   ]
  },
  {
   "cell_type": "markdown",
   "id": "18cc394a-0f93-46cf-bd16-26f439bc9190",
   "metadata": {},
   "source": [
    "---"
   ]
  },
  {
   "cell_type": "markdown",
   "id": "37f76c9c-d01a-4db1-8c09-53ab547192d5",
   "metadata": {},
   "source": [
    "### A. Loading data with command line interface"
   ]
  },
  {
   "cell_type": "markdown",
   "id": "03756dad-8b92-453d-9f5c-9251d9b14388",
   "metadata": {},
   "source": [
    "#### Build the widget and add datatypes to be displayed"
   ]
  },
  {
   "cell_type": "code",
   "id": "4675abde-4b90-4931-be0a-645ea3a81003",
   "metadata": {
    "ExecuteTime": {
     "end_time": "2025-04-07T17:28:29.468933Z",
     "start_time": "2025-04-07T17:28:15.132354Z"
    }
   },
   "source": [
    "from tvbwidgets.api import HeadWidget, HeadWidgetConfig\n",
    "from tvb.simulator.lab import *\n",
    "from IPython.core.display_functions import display"
   ],
   "outputs": [
    {
     "name": "stdout",
     "output_type": "stream",
     "text": [
      "07-04-2025 01:28:15 - INFO - tvbwidgets - Version: 2.2.2\n",
      "Using matplotlib as 2D backend.\n",
      "2025-04-07 13:28:28,845 - INFO - tvb.storage.h5.encryption.data_encryption_handler - Cannot import syncrypto library.\n",
      "07-04-2025 01:28:29 - INFO - tvbwidgets.core.pse.parameters - ImportError: Dask dependency is not included, so this functionality won't be available\n"
     ]
    }
   ],
   "execution_count": 1
  },
  {
   "cell_type": "code",
   "id": "2bfd8e45-cfe1-44f4-b934-823716e27fad",
   "metadata": {
    "ExecuteTime": {
     "end_time": "2025-04-07T17:28:32.239849Z",
     "start_time": "2025-04-07T17:28:29.520780Z"
    }
   },
   "source": [
    "surface = surfaces.Surface.from_file()\n",
    "surface.configure()\n",
    "\n",
    "face = surfaces.Surface.from_file('face_8614.zip')\n",
    "face.configure()\n",
    "\n",
    "reg_map = region_mapping.RegionMapping.from_file()\n",
    "\n",
    "conn = connectivity.Connectivity.from_file()\n",
    "conn.configure()\n",
    "\n",
    "seeg = sensors.SensorsInternal.from_file()\n",
    "seeg.configure()"
   ],
   "outputs": [
    {
     "name": "stderr",
     "output_type": "stream",
     "text": [
      "/opt/miniconda3/lib/python3.12/site-packages/tvb/basic/readers.py:122: UserWarning: loadtxt: input contained no data: \"<zipfile.ZipExtFile name='vertex_normals.txt' mode='r' compress_type=deflate>\"\n",
      "  array_result = numpy.loadtxt(file_stream, dtype=dtype, skiprows=skip_rows, usecols=use_cols)\n"
     ]
    },
    {
     "name": "stdout",
     "output_type": "stream",
     "text": [
      "2025-04-07 13:28:32,218 - WARNING - tvb.basic.readers - File 'hemispheres' not found in ZIP.\n"
     ]
    }
   ],
   "execution_count": 2
  },
  {
   "cell_type": "code",
   "id": "aa76e23c-bc9e-4bdf-bd83-e68487b0aa28",
   "metadata": {
    "ExecuteTime": {
     "end_time": "2025-04-07T17:28:33.814474Z",
     "start_time": "2025-04-07T17:28:32.578534Z"
    }
   },
   "source": [
    "wid = HeadWidget([face, seeg, conn])"
   ],
   "outputs": [],
   "execution_count": 3
  },
  {
   "cell_type": "code",
   "id": "fad7a0df-ffe2-4c94-b0f4-a1e828d34b50",
   "metadata": {
    "ExecuteTime": {
     "end_time": "2025-04-07T17:28:34.103564Z",
     "start_time": "2025-04-07T17:28:33.834127Z"
    }
   },
   "source": [
    "config = HeadWidgetConfig(name='Cortex', color='#F5F5DC')\n",
    "wid.add_datatype(surface, config)\n",
    "config.__dict__"
   ],
   "outputs": [
    {
     "data": {
      "text/plain": [
       "{'name': 'Cortex',\n",
       " 'style': 'Surface',\n",
       " 'color': '#F5F5DC',\n",
       " 'light': True,\n",
       " 'size': 15,\n",
       " 'cmap': None,\n",
       " 'scalars': None,\n",
       " 'widget': None}"
      ]
     },
     "execution_count": 4,
     "metadata": {},
     "output_type": "execute_result"
    }
   ],
   "execution_count": 4
  },
  {
   "cell_type": "code",
   "id": "0b6c41e9-8a03-4996-929f-3ebbafadcc49",
   "metadata": {
    "scrolled": true,
    "ExecuteTime": {
     "end_time": "2025-04-07T17:28:34.280515Z",
     "start_time": "2025-04-07T17:28:34.248122Z"
    }
   },
   "source": [
    "display(wid)"
   ],
   "outputs": [
    {
     "data": {
      "text/plain": [
       "HeadWidget(children=(Accordion(children=(VBox(children=(Checkbox(value=True, description='Toggle Surface-8614'…"
      ],
      "application/vnd.jupyter.widget-view+json": {
       "version_major": 2,
       "version_minor": 0,
       "model_id": "2d83d6274a44409289e23baa6d91f2c1"
      }
     },
     "metadata": {},
     "output_type": "display_data"
    }
   ],
   "execution_count": 5
  },
  {
   "cell_type": "markdown",
   "id": "10908505-9812-450f-aaab-8a4479aee44b",
   "metadata": {},
   "source": [
    "#### Show region mapping on cortical surface"
   ]
  },
  {
   "cell_type": "code",
   "id": "51e351e9-e1c9-416a-b486-3579fe718c43",
   "metadata": {
    "ExecuteTime": {
     "end_time": "2025-04-07T17:28:34.509545Z",
     "start_time": "2025-04-07T17:28:34.488659Z"
    }
   },
   "source": [
    "config = HeadWidgetConfig(name='Cortex')\n",
    "config.add_region_mapping_as_cmap(reg_map)\n",
    "config.__dict__"
   ],
   "outputs": [
    {
     "data": {
      "text/plain": [
       "{'name': 'Cortex',\n",
       " 'style': 'Surface',\n",
       " 'color': 'White',\n",
       " 'light': True,\n",
       " 'size': 15,\n",
       " 'cmap': 'fire',\n",
       " 'scalars': array([36, 36, 36, ..., 68, 67, 68]),\n",
       " 'widget': None}"
      ]
     },
     "execution_count": 6,
     "metadata": {},
     "output_type": "execute_result"
    }
   ],
   "execution_count": 6
  },
  {
   "cell_type": "code",
   "id": "d50f83a3-667f-413f-a8d9-77437e41f9a4",
   "metadata": {
    "tags": [],
    "ExecuteTime": {
     "end_time": "2025-04-07T17:28:35.406747Z",
     "start_time": "2025-04-07T17:28:34.641778Z"
    }
   },
   "source": [
    "wid = HeadWidget()\n",
    "wid.add_datatype(surface, config)\n",
    "display(wid)"
   ],
   "outputs": [
    {
     "data": {
      "text/plain": [
       "HeadWidget(children=(Accordion(children=(VBox(children=(Checkbox(value=True, description='Toggle Cortex'), Tex…"
      ],
      "application/vnd.jupyter.widget-view+json": {
       "version_major": 2,
       "version_minor": 0,
       "model_id": "62cf968245fa4950822ffb22c00532a8"
      }
     },
     "metadata": {},
     "output_type": "display_data"
    }
   ],
   "execution_count": 7
  },
  {
   "cell_type": "markdown",
   "id": "ac465799-bef4-4e33-812c-8856e7809787",
   "metadata": {
    "tags": []
   },
   "source": [
    "---"
   ]
  },
  {
   "cell_type": "markdown",
   "id": "8169e684-50c0-458e-aade-6c01a18a1c48",
   "metadata": {
    "tags": []
   },
   "source": [
    "### B. Loading data from Drive with GUI"
   ]
  },
  {
   "cell_type": "code",
   "id": "30dceb75-9940-4d80-8c3a-f134748411b9",
   "metadata": {
    "ExecuteTime": {
     "end_time": "2025-04-07T17:28:38.982557Z",
     "start_time": "2025-04-07T17:28:35.593411Z"
    }
   },
   "source": [
    "from tvbwidgets.api import HeadBrowser\n",
    "from IPython.core.display_functions import display\n",
    "wid = HeadBrowser()\n",
    "display(wid)"
   ],
   "outputs": [
    {
     "name": "stdout",
     "output_type": "stream",
     "text": [
      "07-04-2025 01:28:35 - INFO - tvbwidgets.core.auth - Try to retrieve auth token from Jupyter-JSC.\n",
      "07-04-2025 01:28:35 - INFO - tvbwidgets.core.auth - We could not find Collab Auth Token or retrieve it from Jupyter-JSC, we will search for env CLB_AUTH variable\n"
     ]
    },
    {
     "ename": "RuntimeError",
     "evalue": "Could not authenticate in Collab. Try to define local env CLB_AUTH or login EBRAINS",
     "output_type": "error",
     "traceback": [
      "\u001B[0;31m---------------------------------------------------------------------------\u001B[0m",
      "\u001B[0;31mRuntimeError\u001B[0m                              Traceback (most recent call last)",
      "Cell \u001B[0;32mIn[8], line 3\u001B[0m\n\u001B[1;32m      1\u001B[0m \u001B[38;5;28;01mfrom\u001B[39;00m \u001B[38;5;21;01mtvbwidgets\u001B[39;00m\u001B[38;5;21;01m.\u001B[39;00m\u001B[38;5;21;01mapi\u001B[39;00m \u001B[38;5;28;01mimport\u001B[39;00m HeadBrowser\n\u001B[1;32m      2\u001B[0m \u001B[38;5;28;01mfrom\u001B[39;00m \u001B[38;5;21;01mIPython\u001B[39;00m\u001B[38;5;21;01m.\u001B[39;00m\u001B[38;5;21;01mcore\u001B[39;00m\u001B[38;5;21;01m.\u001B[39;00m\u001B[38;5;21;01mdisplay_functions\u001B[39;00m \u001B[38;5;28;01mimport\u001B[39;00m display\n\u001B[0;32m----> 3\u001B[0m wid \u001B[38;5;241m=\u001B[39m HeadBrowser()\n\u001B[1;32m      4\u001B[0m display(wid)\n",
      "File \u001B[0;32m~/Desktop/tvb-widgets-before/tvbwidgets/ui/head_widget.py:289\u001B[0m, in \u001B[0;36mHeadBrowser.__init__\u001B[0;34m(self)\u001B[0m\n\u001B[1;32m    288\u001B[0m \u001B[38;5;28;01mdef\u001B[39;00m \u001B[38;5;21m__init__\u001B[39m(\u001B[38;5;28mself\u001B[39m):\n\u001B[0;32m--> 289\u001B[0m     \u001B[38;5;28msuper\u001B[39m()\u001B[38;5;241m.\u001B[39m\u001B[38;5;21m__init__\u001B[39m()\n\u001B[1;32m    290\u001B[0m     surface_button \u001B[38;5;241m=\u001B[39m ipywidgets\u001B[38;5;241m.\u001B[39mButton(description\u001B[38;5;241m=\u001B[39m\u001B[38;5;124m'\u001B[39m\u001B[38;5;124mView surface\u001B[39m\u001B[38;5;124m'\u001B[39m)\n\u001B[1;32m    291\u001B[0m     sensors_button \u001B[38;5;241m=\u001B[39m ipywidgets\u001B[38;5;241m.\u001B[39mButton(description\u001B[38;5;241m=\u001B[39m\u001B[38;5;124m'\u001B[39m\u001B[38;5;124mView sensors\u001B[39m\u001B[38;5;124m'\u001B[39m)\n",
      "File \u001B[0;32m/opt/miniconda3/lib/python3.12/site-packages/ipywidgets/widgets/widget_box.py:64\u001B[0m, in \u001B[0;36mBox.__init__\u001B[0;34m(self, children, **kwargs)\u001B[0m\n\u001B[1;32m     62\u001B[0m \u001B[38;5;28;01mdef\u001B[39;00m \u001B[38;5;21m__init__\u001B[39m(\u001B[38;5;28mself\u001B[39m, children\u001B[38;5;241m=\u001B[39m(), \u001B[38;5;241m*\u001B[39m\u001B[38;5;241m*\u001B[39mkwargs):\n\u001B[1;32m     63\u001B[0m     kwargs[\u001B[38;5;124m'\u001B[39m\u001B[38;5;124mchildren\u001B[39m\u001B[38;5;124m'\u001B[39m] \u001B[38;5;241m=\u001B[39m children\n\u001B[0;32m---> 64\u001B[0m     \u001B[38;5;28msuper\u001B[39m()\u001B[38;5;241m.\u001B[39m\u001B[38;5;21m__init__\u001B[39m(\u001B[38;5;241m*\u001B[39m\u001B[38;5;241m*\u001B[39mkwargs)\n",
      "File \u001B[0;32m/opt/miniconda3/lib/python3.12/site-packages/ipywidgets/widgets/widget.py:501\u001B[0m, in \u001B[0;36mWidget.__init__\u001B[0;34m(self, **kwargs)\u001B[0m\n\u001B[1;32m    499\u001B[0m \u001B[38;5;250m\u001B[39m\u001B[38;5;124;03m\"\"\"Public constructor\"\"\"\u001B[39;00m\n\u001B[1;32m    500\u001B[0m \u001B[38;5;28mself\u001B[39m\u001B[38;5;241m.\u001B[39m_model_id \u001B[38;5;241m=\u001B[39m kwargs\u001B[38;5;241m.\u001B[39mpop(\u001B[38;5;124m'\u001B[39m\u001B[38;5;124mmodel_id\u001B[39m\u001B[38;5;124m'\u001B[39m, \u001B[38;5;28;01mNone\u001B[39;00m)\n\u001B[0;32m--> 501\u001B[0m \u001B[38;5;28msuper\u001B[39m()\u001B[38;5;241m.\u001B[39m\u001B[38;5;21m__init__\u001B[39m(\u001B[38;5;241m*\u001B[39m\u001B[38;5;241m*\u001B[39mkwargs)\n\u001B[1;32m    503\u001B[0m Widget\u001B[38;5;241m.\u001B[39m_call_widget_constructed(\u001B[38;5;28mself\u001B[39m)\n\u001B[1;32m    504\u001B[0m \u001B[38;5;28mself\u001B[39m\u001B[38;5;241m.\u001B[39mopen()\n",
      "File \u001B[0;32m/opt/miniconda3/lib/python3.12/site-packages/traitlets/traitlets.py:1379\u001B[0m, in \u001B[0;36mHasTraits.__init__\u001B[0;34m(self, *args, **kwargs)\u001B[0m\n\u001B[1;32m   1376\u001B[0m         \u001B[38;5;28mself\u001B[39m\u001B[38;5;241m.\u001B[39mnotify_change(changes[key])\n\u001B[1;32m   1378\u001B[0m \u001B[38;5;28;01mtry\u001B[39;00m:\n\u001B[0;32m-> 1379\u001B[0m     \u001B[38;5;28msuper\u001B[39m()\u001B[38;5;241m.\u001B[39m\u001B[38;5;21m__init__\u001B[39m(\u001B[38;5;241m*\u001B[39msuper_args, \u001B[38;5;241m*\u001B[39m\u001B[38;5;241m*\u001B[39msuper_kwargs)\n\u001B[1;32m   1380\u001B[0m \u001B[38;5;28;01mexcept\u001B[39;00m \u001B[38;5;167;01mTypeError\u001B[39;00m \u001B[38;5;28;01mas\u001B[39;00m e:\n\u001B[1;32m   1381\u001B[0m     arg_s_list \u001B[38;5;241m=\u001B[39m [\u001B[38;5;28mrepr\u001B[39m(arg) \u001B[38;5;28;01mfor\u001B[39;00m arg \u001B[38;5;129;01min\u001B[39;00m super_args]\n",
      "File \u001B[0;32m~/Desktop/tvb-widgets-before/tvbwidgets/ui/widget_with_browser.py:23\u001B[0m, in \u001B[0;36mTVBWidgetWithBrowser.__init__\u001B[0;34m(self, collab, folder, selected_storage)\u001B[0m\n\u001B[1;32m     21\u001B[0m \u001B[38;5;28;01mdef\u001B[39;00m \u001B[38;5;21m__init__\u001B[39m(\u001B[38;5;28mself\u001B[39m, collab\u001B[38;5;241m=\u001B[39m\u001B[38;5;28;01mNone\u001B[39;00m, folder\u001B[38;5;241m=\u001B[39m\u001B[38;5;28;01mNone\u001B[39;00m, selected_storage\u001B[38;5;241m=\u001B[39m\u001B[38;5;241m0\u001B[39m):\n\u001B[1;32m     22\u001B[0m     \u001B[38;5;28msuper\u001B[39m()\u001B[38;5;241m.\u001B[39m\u001B[38;5;21m__init__\u001B[39m()\n\u001B[0;32m---> 23\u001B[0m     \u001B[38;5;28mself\u001B[39m\u001B[38;5;241m.\u001B[39mstorage_widget \u001B[38;5;241m=\u001B[39m StorageWidget(collab, folder, selected_storage)\n\u001B[1;32m     24\u001B[0m     \u001B[38;5;28mself\u001B[39m\u001B[38;5;241m.\u001B[39mmessage_label \u001B[38;5;241m=\u001B[39m ipywidgets\u001B[38;5;241m.\u001B[39mHTML(layout\u001B[38;5;241m=\u001B[39mipywidgets\u001B[38;5;241m.\u001B[39mLayout(height\u001B[38;5;241m=\u001B[39m\u001B[38;5;124m'\u001B[39m\u001B[38;5;124m25px\u001B[39m\u001B[38;5;124m'\u001B[39m))\n",
      "File \u001B[0;32m~/Desktop/tvb-widgets-before/tvbwidgets/ui/storage_widget.py:17\u001B[0m, in \u001B[0;36mStorageWidget.__init__\u001B[0;34m(self, collab, folder, selected_storage, **kwargs)\u001B[0m\n\u001B[1;32m     16\u001B[0m \u001B[38;5;28;01mdef\u001B[39;00m \u001B[38;5;21m__init__\u001B[39m(\u001B[38;5;28mself\u001B[39m, collab\u001B[38;5;241m=\u001B[39m\u001B[38;5;28;01mNone\u001B[39;00m, folder\u001B[38;5;241m=\u001B[39m\u001B[38;5;28;01mNone\u001B[39;00m, selected_storage\u001B[38;5;241m=\u001B[39m\u001B[38;5;241m0\u001B[39m, \u001B[38;5;241m*\u001B[39m\u001B[38;5;241m*\u001B[39mkwargs):\n\u001B[0;32m---> 17\u001B[0m     \u001B[38;5;28mself\u001B[39m\u001B[38;5;241m.\u001B[39mtab1 \u001B[38;5;241m=\u001B[39m DriveWidget(collab, folder)\n\u001B[1;32m     18\u001B[0m     \u001B[38;5;28mself\u001B[39m\u001B[38;5;241m.\u001B[39mtab2 \u001B[38;5;241m=\u001B[39m BucketWidget()\n\u001B[1;32m     20\u001B[0m     \u001B[38;5;28msuper\u001B[39m()\u001B[38;5;241m.\u001B[39m\u001B[38;5;21m__init__\u001B[39m([\u001B[38;5;28mself\u001B[39m\u001B[38;5;241m.\u001B[39mtab1, \u001B[38;5;28mself\u001B[39m\u001B[38;5;241m.\u001B[39mtab2], selected_index\u001B[38;5;241m=\u001B[39mselected_storage,\n\u001B[1;32m     21\u001B[0m                      layout\u001B[38;5;241m=\u001B[39mipywidgets\u001B[38;5;241m.\u001B[39mLayout(width\u001B[38;5;241m=\u001B[39m\u001B[38;5;124m'\u001B[39m\u001B[38;5;124m550px\u001B[39m\u001B[38;5;124m'\u001B[39m, height\u001B[38;5;241m=\u001B[39m\u001B[38;5;124m'\u001B[39m\u001B[38;5;124m200px\u001B[39m\u001B[38;5;124m'\u001B[39m), \u001B[38;5;241m*\u001B[39m\u001B[38;5;241m*\u001B[39mkwargs)\n",
      "File \u001B[0;32m~/Desktop/tvb-widgets-before/tvbwidgets/ui/drive_widget.py:25\u001B[0m, in \u001B[0;36mDriveWidget.__init__\u001B[0;34m(self, collab, folder, **kwargs)\u001B[0m\n\u001B[1;32m     23\u001B[0m \u001B[38;5;28mself\u001B[39m\u001B[38;5;241m.\u001B[39mcollab \u001B[38;5;241m=\u001B[39m collab\n\u001B[1;32m     24\u001B[0m \u001B[38;5;28mself\u001B[39m\u001B[38;5;241m.\u001B[39mfolder \u001B[38;5;241m=\u001B[39m folder\n\u001B[0;32m---> 25\u001B[0m bearer_token \u001B[38;5;241m=\u001B[39m get_current_token()\n\u001B[1;32m     26\u001B[0m \u001B[38;5;28mself\u001B[39m\u001B[38;5;241m.\u001B[39mclient \u001B[38;5;241m=\u001B[39m ebrains_drive\u001B[38;5;241m.\u001B[39mconnect(token\u001B[38;5;241m=\u001B[39mbearer_token)\n\u001B[1;32m     28\u001B[0m \u001B[38;5;28;01mtry\u001B[39;00m:\n",
      "File \u001B[0;32m~/Desktop/tvb-widgets-before/tvbwidgets/core/auth.py:47\u001B[0m, in \u001B[0;36mget_current_token\u001B[0;34m()\u001B[0m\n\u001B[1;32m     44\u001B[0m             LOGGER\u001B[38;5;241m.\u001B[39minfo(\u001B[38;5;124m\"\u001B[39m\u001B[38;5;124mWe found Collab Auth in environment!\u001B[39m\u001B[38;5;124m\"\u001B[39m)\n\u001B[1;32m     45\u001B[0m             \u001B[38;5;28;01mreturn\u001B[39;00m env_token\n\u001B[0;32m---> 47\u001B[0m \u001B[38;5;28;01mraise\u001B[39;00m \u001B[38;5;167;01mRuntimeError\u001B[39;00m(\u001B[38;5;124m\"\u001B[39m\u001B[38;5;124mCould not authenticate in Collab. Try to define local env CLB_AUTH or login EBRAINS\u001B[39m\u001B[38;5;124m\"\u001B[39m)\n",
      "\u001B[0;31mRuntimeError\u001B[0m: Could not authenticate in Collab. Try to define local env CLB_AUTH or login EBRAINS"
     ]
    }
   ],
   "execution_count": 8
  },
  {
   "cell_type": "code",
   "execution_count": null,
   "id": "c0f85a66-387f-42a0-bda7-1589d9a58595",
   "metadata": {},
   "outputs": [],
   "source": []
  },
  {
   "cell_type": "code",
   "execution_count": null,
   "id": "37c413d5-23ea-4954-9eba-cfc08ce8327a",
   "metadata": {},
   "outputs": [],
   "source": []
  }
 ],
 "metadata": {
  "kernelspec": {
   "display_name": "Python 3 (ipykernel)",
   "language": "python",
   "name": "python3"
  },
  "language_info": {
   "codemirror_mode": {
    "name": "ipython",
    "version": 3
   },
   "file_extension": ".py",
   "mimetype": "text/x-python",
   "name": "python",
   "nbconvert_exporter": "python",
   "pygments_lexer": "ipython3",
   "version": "3.9.19"
  }
 },
 "nbformat": 4,
 "nbformat_minor": 5
}
