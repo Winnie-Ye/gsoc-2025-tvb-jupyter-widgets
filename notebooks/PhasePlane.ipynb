{
 "cells": [
  {
   "cell_type": "markdown",
   "id": "10c2953f-29a8-4767-8a86-3306d3ecdc65",
   "metadata": {},
   "source": [
    "## TVB ShowCase: Phase Plane interactive"
   ]
  },
  {
   "cell_type": "code",
   "id": "04bc2ecb-fc03-44b8-b009-cb42ac5c7d4c",
   "metadata": {
    "ExecuteTime": {
     "end_time": "2025-04-07T17:30:20.248799Z",
     "start_time": "2025-04-07T17:30:18.792989Z"
    }
   },
   "source": [
    "%load_ext autoreload\n",
    "%autoreload 2\n",
    "%matplotlib widget"
   ],
   "outputs": [],
   "execution_count": 1
  },
  {
   "cell_type": "markdown",
   "id": "2675a8ee-a443-4b40-b383-a0db0dc4a976",
   "metadata": {},
   "source": [
    "---"
   ]
  },
  {
   "cell_type": "markdown",
   "id": "9e4b9282-9776-4b05-83f8-817f6a6d567b",
   "metadata": {},
   "source": [
    "### Choose model and start the Phase Plane GUI"
   ]
  },
  {
   "cell_type": "code",
   "id": "acd78ac4-2703-444f-bb6c-1d7080b6552d",
   "metadata": {
    "ExecuteTime": {
     "end_time": "2025-04-07T17:30:34.689042Z",
     "start_time": "2025-04-07T17:30:20.264596Z"
    }
   },
   "source": [
    "from tvbwidgets.api import PhasePlaneWidget\n",
    "from tvb.simulator.lab import *\n",
    "w = PhasePlaneWidget(model=models.Generic2dOscillator(),\n",
    "                     integrator=integrators.HeunDeterministic())"
   ],
   "outputs": [
    {
     "name": "stdout",
     "output_type": "stream",
     "text": [
      "07-04-2025 01:30:20 - INFO - tvbwidgets - Version: 2.2.2\n",
      "Using matplotlib as 2D backend.\n",
      "2025-04-07 13:30:33,869 - INFO - tvb.storage.h5.encryption.data_encryption_handler - Cannot import syncrypto library.\n",
      "07-04-2025 01:30:34 - INFO - tvbwidgets.core.pse.parameters - ImportError: Dask dependency is not included, so this functionality won't be available\n"
     ]
    }
   ],
   "execution_count": 2
  },
  {
   "cell_type": "code",
   "id": "c7b13003-65ce-4365-a2e6-d9cdc135b48d",
   "metadata": {
    "ExecuteTime": {
     "end_time": "2025-04-07T17:30:50.104677Z",
     "start_time": "2025-04-07T17:30:34.939633Z"
    }
   },
   "source": [
    "from IPython.core.display_functions import display\n",
    "#w.TRAJ_STEPS *=10\n",
    "display(w.get_widget(plot_size=(6,7)))"
   ],
   "outputs": [
    {
     "data": {
      "text/plain": [
       "HBox(children=(Tab(children=(VBox(children=(Dropdown(description='Model:', index=9, options=('Epileptor', 'Epi…"
      ],
      "application/vnd.jupyter.widget-view+json": {
       "version_major": 2,
       "version_minor": 0,
       "model_id": "9396211257884d388955e190ed848cf5"
      }
     },
     "metadata": {},
     "output_type": "display_data"
    }
   ],
   "execution_count": 3
  },
  {
   "cell_type": "code",
   "id": "39bd50eb-074e-4162-be4f-01d9bfc9b1ab",
   "metadata": {
    "ExecuteTime": {
     "end_time": "2025-04-07T17:30:50.809163Z",
     "start_time": "2025-04-07T17:30:50.720347Z"
    }
   },
   "source": [
    "# w.export_model()"
   ],
   "outputs": [],
   "execution_count": 4
  },
  {
   "cell_type": "code",
   "id": "f61424b8-5fda-4382-85e5-b249286c9201",
   "metadata": {
    "ExecuteTime": {
     "end_time": "2025-04-07T17:30:50.838932Z",
     "start_time": "2025-04-07T17:30:50.828410Z"
    }
   },
   "source": [],
   "outputs": [],
   "execution_count": null
  }
 ],
 "metadata": {
  "kernelspec": {
   "display_name": "Python 3 (ipykernel)",
   "language": "python",
   "name": "python3"
  },
  "language_info": {
   "codemirror_mode": {
    "name": "ipython",
    "version": 3
   },
   "file_extension": ".py",
   "mimetype": "text/x-python",
   "name": "python",
   "nbconvert_exporter": "python",
   "pygments_lexer": "ipython3",
   "version": "3.9.13"
  }
 },
 "nbformat": 4,
 "nbformat_minor": 5
}
