{
 "cells": [
  {
   "cell_type": "markdown",
   "metadata": {},
   "source": [
    "# Connectivity SpaceTime Widget\n",
    "Displays a large scale Connectivity split into time slices, based on the delays of passing the signals to adjacent regions.The first slice is the complete weights matrix.<br><br>\n",
    "This work has been produced as part of GSOC 2024.\n"
   ]
  },
  {
   "cell_type": "code",
   "metadata": {
    "ExecuteTime": {
     "end_time": "2025-04-07T22:47:33.606338Z",
     "start_time": "2025-04-07T22:47:31.430218Z"
    }
   },
   "source": [
    "from tvb.datatypes.connectivity import Connectivity\n",
    "from tvbwidgets.ui.spacetime_widget import SpaceTimeVisualizerWidget\n",
    "conn = Connectivity.from_file() # defaults to connectivy_76.zip\n",
    "conn.configure()"
   ],
   "outputs": [
    {
     "name": "stdout",
     "output_type": "stream",
     "text": [
      "07-04-2025 06:47:32 - INFO - tvbwidgets - Version: 2.2.2\n",
      "2025-04-07 18:47:33,591 - WARNING - tvb.basic.readers - File 'hemispheres' not found in ZIP.\n"
     ]
    }
   ],
   "execution_count": 1
  },
  {
   "cell_type": "code",
   "metadata": {
    "ExecuteTime": {
     "end_time": "2025-04-07T22:47:35.823535Z",
     "start_time": "2025-04-07T22:47:33.632746Z"
    }
   },
   "source": [
    "x = SpaceTimeVisualizerWidget(conn)\n",
    "x.display()"
   ],
   "outputs": [
    {
     "name": "stderr",
     "output_type": "stream",
     "text": [
      "/opt/miniconda3/lib/python3.12/site-packages/pythreejs/traits.py:257: UserWarning: 64-bit data types not supported for WebGL data, casting to 32-bit.\n",
      "  warnings.warn('64-bit data types not supported for WebGL '\n"
     ]
    },
    {
     "data": {
      "text/plain": [
       "HBox(children=(BoundedFloatText(value=1.0, description='Conduction Speed:', layout=Layout(width='170px'), max=…"
      ],
      "application/vnd.jupyter.widget-view+json": {
       "version_major": 2,
       "version_minor": 0,
       "model_id": "2494b45c242a4ab9994ae6e5da1fc37e"
      }
     },
     "metadata": {},
     "output_type": "display_data"
    },
    {
     "data": {
      "text/plain": [
       "HBox(children=(Tab(children=(Output(), Output()), layout=Layout(border_bottom='2px solid lightgray', border_le…"
      ],
      "application/vnd.jupyter.widget-view+json": {
       "version_major": 2,
       "version_minor": 0,
       "model_id": "a603387ff1f84ec4a8d2b5acf1a6fd46"
      }
     },
     "metadata": {},
     "output_type": "display_data"
    }
   ],
   "execution_count": 2
  },
  {
   "cell_type": "code",
   "metadata": {},
   "source": [],
   "outputs": [],
   "execution_count": null
  }
 ],
 "metadata": {
  "kernelspec": {
   "display_name": "tvb-wid",
   "language": "python",
   "name": "python3"
  },
  "language_info": {
   "codemirror_mode": {
    "name": "ipython",
    "version": 3
   },
   "file_extension": ".py",
   "mimetype": "text/x-python",
   "name": "python",
   "nbconvert_exporter": "python",
   "pygments_lexer": "ipython3",
   "version": "3.10.14"
  }
 },
 "nbformat": 4,
 "nbformat_minor": 2
}
