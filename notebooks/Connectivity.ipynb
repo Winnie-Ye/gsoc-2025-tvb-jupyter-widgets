{
 "cells": [
  {
   "cell_type": "markdown",
   "metadata": {},
   "source": [
    "## Demonstrate Connectivity Widget "
   ]
  },
  {
   "cell_type": "code",
   "metadata": {
    "tags": [],
    "ExecuteTime": {
     "end_time": "2025-04-07T17:36:36.761295Z",
     "start_time": "2025-04-07T17:36:16.426698Z"
    }
   },
   "source": [
    "from tvbwidgets.api import ConnectivityWidget\n",
    "from tvb.datatypes.connectivity import Connectivity\n",
    "import pyvista as pv\n",
    "import numpy as np\n",
    "\n",
    "conn = Connectivity.from_file() # defaults to connectivy_76.zip\n",
    "conn.configure()\n",
    "\n",
    "wid = ConnectivityWidget(conn, default_active_tab='viewers', width=600, height=600) # default_active_tab can be any value between 'viewers'|'operations'|'both'\n",
    "\n",
    "display(wid)"
   ],
   "outputs": [
    {
     "name": "stdout",
     "output_type": "stream",
     "text": [
      "07-04-2025 01:36:16 - INFO - tvbwidgets - Version: 2.2.2\n",
      "Using matplotlib as 2D backend.\n",
      "2025-04-07 13:36:33,327 - INFO - tvb.storage.h5.encryption.data_encryption_handler - Cannot import syncrypto library.\n",
      "07-04-2025 01:36:33 - INFO - tvbwidgets.core.pse.parameters - ImportError: Dask dependency is not included, so this functionality won't be available\n",
      "2025-04-07 13:36:34,001 - WARNING - tvb.basic.readers - File 'hemispheres' not found in ZIP.\n"
     ]
    },
    {
     "data": {
      "text/plain": [
       "ConnectivityWidget(children=(VBox(children=(HTML(value='<h1>Connectivity - 76</h1>'), HBox(children=(Checkbox(…"
      ],
      "application/vnd.jupyter.widget-view+json": {
       "version_major": 2,
       "version_minor": 0,
       "model_id": "c1af5b9057f04edc93a856d2f34a7f62"
      }
     },
     "metadata": {},
     "output_type": "display_data"
    }
   ],
   "execution_count": 1
  },
  {
   "cell_type": "code",
   "metadata": {},
   "source": [
    "# replace None in the method below with the gid of the connectivity you wish to export\n",
    "# if no gid is provided it will export the connectivity currently viewed\n",
    "\n",
    "new_connectivity = wid.get_connectivity(gid=None)  \n",
    "new_connectivity"
   ],
   "outputs": [
    {
     "data": {
      "text/plain": [
       "<tvb.datatypes.connectivity.Connectivity at 0x14297c5f0>"
      ],
      "text/html": [
       "<table>\n",
       "<thead><h3>Connectivity</h3></thead>\n",
       "<tbody>\n",
       "\n",
       "<tr><th></th><th style=\"text-align:left;width:80%\">value</th></tr>\n",
       "<tr><td>Number of connections</td><td style=\"text-align:left;\"><pre>1560</pre></td></tr>\n",
       "<tr><td>Number of regions</td><td style=\"text-align:left;\"><pre>76</pre></td></tr>\n",
       "<tr><td>Undirected</td><td style=\"text-align:left;\"><pre>False</pre></td></tr>\n",
       "<tr><td>areas</td><td style=\"text-align:left;\"><pre> [min, median, max] = [0, 2580.89, 10338.2] dtype = float64 shape = (76,)</pre></td></tr>\n",
       "<tr><td>tract_lengths</td><td style=\"text-align:left;\"><pre> [min, median, max] = [0, 71.6635, 153.486] dtype = float64 shape = (76, 76)</pre></td></tr>\n",
       "<tr><td>tract_lengths (connections)</td><td style=\"text-align:left;\"><pre> [min, median, max] = [0, 55.8574, 138.454] dtype = float64 shape = (1560,)</pre></td></tr>\n",
       "<tr><td>tract_lengths-non-zero</td><td style=\"text-align:left;\"><pre> [min, median, max] = [4.93328, 74.0646, 153.486] dtype = float64 shape = (5402,)</pre></td></tr>\n",
       "<tr><td>weights</td><td style=\"text-align:left;\"><pre> [min, median, max] = [0, 0, 3] dtype = float64 shape = (76, 76)</pre></td></tr>\n",
       "<tr><td>weights-non-zero</td><td style=\"text-align:left;\"><pre> [min, median, max] = [0.00462632, 2, 3] dtype = float64 shape = (1560,)</pre></td></tr>\n",
       "</tbody></table>"
      ]
     },
     "execution_count": 2,
     "metadata": {},
     "output_type": "execute_result"
    }
   ],
   "execution_count": 2
  },
  {
   "cell_type": "code",
   "metadata": {},
   "source": [
    "#  Using the React Connectivity widget may lead to Jupyter Lab freezing or crashing.\n",
    "#  If you choose to use it, we recommend to run it in Mozilla Firefox web browser.\n",
    "\n",
    "\n",
    "# from tvbwidgets.api import ConnectivityWidgetReact\n",
    "# from tvb.datatypes.connectivity import Connectivity\n",
    "\n",
    "# connectivity = Connectivity.from_file() # defaults to connectivy_76.zip\n",
    "\n",
    "\n",
    "# wid = ConnectivityWidgetReact(connectivity=connectivity)\n",
    "# wid"
   ],
   "outputs": [],
   "execution_count": 3
  }
 ],
 "metadata": {
  "kernelspec": {
   "display_name": "Python 3 (ipykernel)",
   "language": "python",
   "name": "python3"
  },
  "language_info": {
   "codemirror_mode": {
    "name": "ipython",
    "version": 3
   },
   "file_extension": ".py",
   "mimetype": "text/x-python",
   "name": "python",
   "nbconvert_exporter": "python",
   "pygments_lexer": "ipython3",
   "version": "3.8.19"
  }
 },
 "nbformat": 4,
 "nbformat_minor": 4
}
